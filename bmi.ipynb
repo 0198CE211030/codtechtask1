{
 "cells": [
  {
   "cell_type": "code",
   "execution_count": 1,
   "id": "c93e6a2b-6ed4-408e-8561-f90158e8c8f7",
   "metadata": {},
   "outputs": [
    {
     "data": {
      "application/vnd.jupyter.widget-view+json": {
       "model_id": "725eb48b78c3407a9c166691fd52bd79",
       "version_major": 2,
       "version_minor": 0
      },
      "text/plain": [
       "Text(value='', description='Height (cm):', placeholder='Enter height in cm')"
      ]
     },
     "metadata": {},
     "output_type": "display_data"
    },
    {
     "data": {
      "application/vnd.jupyter.widget-view+json": {
       "model_id": "849df2d3e17648fa9e1089fd0255074c",
       "version_major": 2,
       "version_minor": 0
      },
      "text/plain": [
       "Text(value='', description='Weight (kg):', placeholder='Enter weight in kg')"
      ]
     },
     "metadata": {},
     "output_type": "display_data"
    },
    {
     "data": {
      "application/vnd.jupyter.widget-view+json": {
       "model_id": "4c8cbbbca98a4eb783820d104ccafd3c",
       "version_major": 2,
       "version_minor": 0
      },
      "text/plain": [
       "Button(description='Calculate BMI', style=ButtonStyle())"
      ]
     },
     "metadata": {},
     "output_type": "display_data"
    },
    {
     "data": {
      "application/vnd.jupyter.widget-view+json": {
       "model_id": "8b58de8a8eac4cfd904274d6719cc533",
       "version_major": 2,
       "version_minor": 0
      },
      "text/plain": [
       "Output()"
      ]
     },
     "metadata": {},
     "output_type": "display_data"
    }
   ],
   "source": [
    "\n",
    "\n",
    "\n",
    "#bmi calculator\n",
    "import ipywidgets as widgets\n",
    "from IPython.display import display, clear_output\n",
    "\n",
    "def calculate_bmi(height, weight):\n",
    "    try:\n",
    "        height = float(height)\n",
    "        weight = float(weight)\n",
    "        \n",
    "        if height <= 0 or weight <= 0:\n",
    "            return \"Height and Weight must be positive numbers.\"\n",
    "        \n",
    "        bmi = weight / (height / 100) ** 2  # Convert height from cm to meters\n",
    "        \n",
    "        if bmi < 18.5:\n",
    "            category = \"Underweight\"\n",
    "        elif 18.5 <= bmi < 24.9:\n",
    "            category = \"Normal weight\"\n",
    "        elif 25 <= bmi < 29.9:\n",
    "            category = \"Overweight\"\n",
    "        else:\n",
    "            category = \"Obesity\"\n",
    "        \n",
    "        return f\"BMI: {bmi:.2f}\\nCategory: {category}\"\n",
    "    except ValueError:\n",
    "        return \"Please enter valid numbers for height and weight.\"\n",
    "\n",
    "height_input = widgets.Text(\n",
    "    value='',\n",
    "    placeholder='Enter height in cm',\n",
    "    description='Height (cm):',\n",
    "    disabled=False\n",
    ")\n",
    "\n",
    "weight_input = widgets.Text(\n",
    "    value='',\n",
    "    placeholder='Enter weight in kg',\n",
    "    description='Weight (kg):',\n",
    "    disabled=False\n",
    ")\n",
    "\n",
    "output = widgets.Output()\n",
    "\n",
    "def on_button_clicked(b):\n",
    "    with output:\n",
    "        clear_output()\n",
    "        result = calculate_bmi(height_input.value, weight_input.value)\n",
    "        print(result)\n",
    "\n",
    "button = widgets.Button(description=\"Calculate BMI\")\n",
    "button.on_click(on_button_clicked)\n",
    "\n",
    "display(height_input)\n",
    "display(weight_input)\n",
    "display(button)\n",
    "display(output)\n",
    "\n"
   ]
  },
  {
   "cell_type": "code",
   "execution_count": null,
   "id": "12b3fc59-2e70-4a60-8e71-54585c4a21ed",
   "metadata": {},
   "outputs": [],
   "source": []
  }
 ],
 "metadata": {
  "kernelspec": {
   "display_name": "Python 3 (ipykernel)",
   "language": "python",
   "name": "python3"
  },
  "language_info": {
   "codemirror_mode": {
    "name": "ipython",
    "version": 3
   },
   "file_extension": ".py",
   "mimetype": "text/x-python",
   "name": "python",
   "nbconvert_exporter": "python",
   "pygments_lexer": "ipython3",
   "version": "3.12.4"
  }
 },
 "nbformat": 4,
 "nbformat_minor": 5
}
